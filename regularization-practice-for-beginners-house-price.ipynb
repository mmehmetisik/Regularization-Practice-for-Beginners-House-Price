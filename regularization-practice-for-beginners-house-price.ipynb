{
 "cells": [
  {
   "cell_type": "markdown",
   "id": "7c1a2cc1",
   "metadata": {
    "papermill": {
     "duration": 0.007204,
     "end_time": "2023-07-16T13:12:33.686896",
     "exception": false,
     "start_time": "2023-07-16T13:12:33.679692",
     "status": "completed"
    },
    "tags": []
   },
   "source": [
    "![](https://static.wixstatic.com/media/0f65e1_376b7ccde2d141b384044a52654c5afb~mv2.png/v1/fill/w_883,h_487,al_c,lg_1,q_90/0f65e1_376b7ccde2d141b384044a52654c5afb~mv2.png)"
   ]
  },
  {
   "cell_type": "markdown",
   "id": "a1c93eb7",
   "metadata": {
    "papermill": {
     "duration": 0.00628,
     "end_time": "2023-07-16T13:12:33.699992",
     "exception": false,
     "start_time": "2023-07-16T13:12:33.693712",
     "status": "completed"
    },
    "tags": []
   },
   "source": [
    "# What Is Regularization ?"
   ]
  },
  {
   "cell_type": "markdown",
   "id": "b52fc179",
   "metadata": {
    "papermill": {
     "duration": 0.006166,
     "end_time": "2023-07-16T13:12:33.712748",
     "exception": false,
     "start_time": "2023-07-16T13:12:33.706582",
     "status": "completed"
    },
    "tags": []
   },
   "source": [
    "- Regularization in machine learning refers to a set of techniques used to prevent overfitting and improve the generalization performance of a model. Overfitting occurs when a model learns the training data too well and fails to generalize to unseen data.\n",
    "\n",
    "- Regularization methods introduce additional constraints or penalties on the model's parameters during training, discouraging overly complex or extreme solutions. The goal is to find a balance between fitting the training data well and maintaining good generalization to new, unseen data.\n",
    "\n",
    "**Two common regularization techniques are:**\n",
    "\n",
    "1. L1 Regularization (Lasso): In L1 regularization, a penalty term is added to the loss function of the model that is proportional to the absolute values of the model's parameters. This penalty encourages the model to select a sparse set of features, effectively performing feature selection by driving some of the parameters to zero.\n",
    "\n",
    "2. L2 Regularization (Ridge): L2 regularization adds a penalty term to the loss function that is proportional to the squared magnitudes of the model's parameters. This penalty encourages the model to distribute the weight across all features, reducing the impact of any single feature and preventing extreme parameter values.\n",
    "\n",
    "- Both L1 and L2 regularization help in controlling the complexity of the model by adding a regularization term to the loss function, which is a combination of the data fitting term (minimizing the error on the training data) and the regularization term (penalizing extreme parameter values).\n",
    "\n",
    "- The amount of regularization applied is controlled by a hyperparameter called the regularization parameter or lambda. A higher value of lambda increases the regularization strength, which can result in simpler models but with potentially lower performance on the training data. Finding an optimal value for the regularization parameter is important, typically through techniques such as cross-validation.\n",
    "\n",
    "- Regularization is widely used in machine learning to improve model performance, especially when dealing with limited training data or when the feature space is high-dimensional."
   ]
  },
  {
   "cell_type": "markdown",
   "id": "8a1937db",
   "metadata": {
    "papermill": {
     "duration": 0.006127,
     "end_time": "2023-07-16T13:12:33.725395",
     "exception": false,
     "start_time": "2023-07-16T13:12:33.719268",
     "status": "completed"
    },
    "tags": []
   },
   "source": [
    "# 1. Import Required Libraries"
   ]
  },
  {
   "cell_type": "code",
   "execution_count": 1,
   "id": "b08995af",
   "metadata": {
    "execution": {
     "iopub.execute_input": "2023-07-16T13:12:33.740729Z",
     "iopub.status.busy": "2023-07-16T13:12:33.740042Z",
     "iopub.status.idle": "2023-07-16T13:12:34.957185Z",
     "shell.execute_reply": "2023-07-16T13:12:34.956018Z"
    },
    "id": "xibu6qo7pONV",
    "papermill": {
     "duration": 1.228088,
     "end_time": "2023-07-16T13:12:34.960059",
     "exception": false,
     "start_time": "2023-07-16T13:12:33.731971",
     "status": "completed"
    },
    "tags": []
   },
   "outputs": [
    {
     "name": "stderr",
     "output_type": "stream",
     "text": [
      "/opt/conda/lib/python3.10/site-packages/scipy/__init__.py:146: UserWarning: A NumPy version >=1.16.5 and <1.23.0 is required for this version of SciPy (detected version 1.23.5\n",
      "  warnings.warn(f\"A NumPy version >={np_minversion} and <{np_maxversion}\"\n"
     ]
    }
   ],
   "source": [
    "import pandas as pd\n",
    "from sklearn.linear_model import Ridge, LinearRegression\n",
    "from sklearn.model_selection import train_test_split\n",
    "from sklearn.metrics import mean_squared_error"
   ]
  },
  {
   "cell_type": "markdown",
   "id": "2dd6a4fa",
   "metadata": {
    "papermill": {
     "duration": 0.006493,
     "end_time": "2023-07-16T13:12:34.973403",
     "exception": false,
     "start_time": "2023-07-16T13:12:34.966910",
     "status": "completed"
    },
    "tags": []
   },
   "source": [
    "# 2. Loading the Data Set"
   ]
  },
  {
   "cell_type": "code",
   "execution_count": 2,
   "id": "5ab94ea2",
   "metadata": {
    "execution": {
     "iopub.execute_input": "2023-07-16T13:12:34.988773Z",
     "iopub.status.busy": "2023-07-16T13:12:34.988357Z",
     "iopub.status.idle": "2023-07-16T13:12:35.012312Z",
     "shell.execute_reply": "2023-07-16T13:12:35.011243Z"
    },
    "id": "Tb6n-Ma_zXGj",
    "papermill": {
     "duration": 0.034935,
     "end_time": "2023-07-16T13:12:35.015031",
     "exception": false,
     "start_time": "2023-07-16T13:12:34.980096",
     "status": "completed"
    },
    "tags": []
   },
   "outputs": [],
   "source": [
    "data = pd.read_csv(\"/kaggle/input/regression-model-dataset/train (2).csv\")"
   ]
  },
  {
   "cell_type": "markdown",
   "id": "04b5e58d",
   "metadata": {
    "papermill": {
     "duration": 0.006402,
     "end_time": "2023-07-16T13:12:35.028196",
     "exception": false,
     "start_time": "2023-07-16T13:12:35.021794",
     "status": "completed"
    },
    "tags": []
   },
   "source": [
    "# 3. Creating the Models"
   ]
  },
  {
   "cell_type": "code",
   "execution_count": 3,
   "id": "f5e9fb12",
   "metadata": {
    "execution": {
     "iopub.execute_input": "2023-07-16T13:12:35.043486Z",
     "iopub.status.busy": "2023-07-16T13:12:35.043090Z",
     "iopub.status.idle": "2023-07-16T13:12:35.050466Z",
     "shell.execute_reply": "2023-07-16T13:12:35.049341Z"
    },
    "papermill": {
     "duration": 0.017887,
     "end_time": "2023-07-16T13:12:35.052803",
     "exception": false,
     "start_time": "2023-07-16T13:12:35.034916",
     "status": "completed"
    },
    "tags": []
   },
   "outputs": [],
   "source": [
    "# Creating the Dependent Variable.\n",
    "\n",
    "y = data.loc[:,'SalePrice']"
   ]
  },
  {
   "cell_type": "code",
   "execution_count": 4,
   "id": "96db8353",
   "metadata": {
    "execution": {
     "iopub.execute_input": "2023-07-16T13:12:35.069369Z",
     "iopub.status.busy": "2023-07-16T13:12:35.068737Z",
     "iopub.status.idle": "2023-07-16T13:12:35.079809Z",
     "shell.execute_reply": "2023-07-16T13:12:35.078654Z"
    },
    "id": "UAp0ISkJzezQ",
    "papermill": {
     "duration": 0.023006,
     "end_time": "2023-07-16T13:12:35.082479",
     "exception": false,
     "start_time": "2023-07-16T13:12:35.059473",
     "status": "completed"
    },
    "tags": []
   },
   "outputs": [],
   "source": [
    "# Creating Independent Variables.\n",
    "\n",
    "X = data.drop('SalePrice',axis=1)"
   ]
  },
  {
   "cell_type": "code",
   "execution_count": 5,
   "id": "2a06374f",
   "metadata": {
    "execution": {
     "iopub.execute_input": "2023-07-16T13:12:35.098396Z",
     "iopub.status.busy": "2023-07-16T13:12:35.097935Z",
     "iopub.status.idle": "2023-07-16T13:12:35.105801Z",
     "shell.execute_reply": "2023-07-16T13:12:35.104564Z"
    },
    "id": "HTqqAoiYrTyE",
    "papermill": {
     "duration": 0.018836,
     "end_time": "2023-07-16T13:12:35.108192",
     "exception": false,
     "start_time": "2023-07-16T13:12:35.089356",
     "status": "completed"
    },
    "tags": []
   },
   "outputs": [],
   "source": [
    "# Splitting the Data into Training and Test Sets\n",
    "\n",
    "X_train, X_test, y_train, y_test = train_test_split(X, y, test_size=0.3)"
   ]
  },
  {
   "cell_type": "code",
   "execution_count": 6,
   "id": "d4b02379",
   "metadata": {
    "execution": {
     "iopub.execute_input": "2023-07-16T13:12:35.124243Z",
     "iopub.status.busy": "2023-07-16T13:12:35.123437Z",
     "iopub.status.idle": "2023-07-16T13:12:35.128048Z",
     "shell.execute_reply": "2023-07-16T13:12:35.127034Z"
    },
    "papermill": {
     "duration": 0.015216,
     "end_time": "2023-07-16T13:12:35.130288",
     "exception": false,
     "start_time": "2023-07-16T13:12:35.115072",
     "status": "completed"
    },
    "tags": []
   },
   "outputs": [],
   "source": [
    "# Creating the LinearRegression model object\n",
    "\n",
    "linear_reg = LinearRegression()"
   ]
  },
  {
   "cell_type": "code",
   "execution_count": 7,
   "id": "a3864459",
   "metadata": {
    "execution": {
     "iopub.execute_input": "2023-07-16T13:12:35.146095Z",
     "iopub.status.busy": "2023-07-16T13:12:35.145389Z",
     "iopub.status.idle": "2023-07-16T13:12:35.180368Z",
     "shell.execute_reply": "2023-07-16T13:12:35.179410Z"
    },
    "papermill": {
     "duration": 0.045527,
     "end_time": "2023-07-16T13:12:35.182835",
     "exception": false,
     "start_time": "2023-07-16T13:12:35.137308",
     "status": "completed"
    },
    "tags": []
   },
   "outputs": [
    {
     "data": {
      "text/html": [
       "<style>#sk-container-id-1 {color: black;background-color: white;}#sk-container-id-1 pre{padding: 0;}#sk-container-id-1 div.sk-toggleable {background-color: white;}#sk-container-id-1 label.sk-toggleable__label {cursor: pointer;display: block;width: 100%;margin-bottom: 0;padding: 0.3em;box-sizing: border-box;text-align: center;}#sk-container-id-1 label.sk-toggleable__label-arrow:before {content: \"▸\";float: left;margin-right: 0.25em;color: #696969;}#sk-container-id-1 label.sk-toggleable__label-arrow:hover:before {color: black;}#sk-container-id-1 div.sk-estimator:hover label.sk-toggleable__label-arrow:before {color: black;}#sk-container-id-1 div.sk-toggleable__content {max-height: 0;max-width: 0;overflow: hidden;text-align: left;background-color: #f0f8ff;}#sk-container-id-1 div.sk-toggleable__content pre {margin: 0.2em;color: black;border-radius: 0.25em;background-color: #f0f8ff;}#sk-container-id-1 input.sk-toggleable__control:checked~div.sk-toggleable__content {max-height: 200px;max-width: 100%;overflow: auto;}#sk-container-id-1 input.sk-toggleable__control:checked~label.sk-toggleable__label-arrow:before {content: \"▾\";}#sk-container-id-1 div.sk-estimator input.sk-toggleable__control:checked~label.sk-toggleable__label {background-color: #d4ebff;}#sk-container-id-1 div.sk-label input.sk-toggleable__control:checked~label.sk-toggleable__label {background-color: #d4ebff;}#sk-container-id-1 input.sk-hidden--visually {border: 0;clip: rect(1px 1px 1px 1px);clip: rect(1px, 1px, 1px, 1px);height: 1px;margin: -1px;overflow: hidden;padding: 0;position: absolute;width: 1px;}#sk-container-id-1 div.sk-estimator {font-family: monospace;background-color: #f0f8ff;border: 1px dotted black;border-radius: 0.25em;box-sizing: border-box;margin-bottom: 0.5em;}#sk-container-id-1 div.sk-estimator:hover {background-color: #d4ebff;}#sk-container-id-1 div.sk-parallel-item::after {content: \"\";width: 100%;border-bottom: 1px solid gray;flex-grow: 1;}#sk-container-id-1 div.sk-label:hover label.sk-toggleable__label {background-color: #d4ebff;}#sk-container-id-1 div.sk-serial::before {content: \"\";position: absolute;border-left: 1px solid gray;box-sizing: border-box;top: 0;bottom: 0;left: 50%;z-index: 0;}#sk-container-id-1 div.sk-serial {display: flex;flex-direction: column;align-items: center;background-color: white;padding-right: 0.2em;padding-left: 0.2em;position: relative;}#sk-container-id-1 div.sk-item {position: relative;z-index: 1;}#sk-container-id-1 div.sk-parallel {display: flex;align-items: stretch;justify-content: center;background-color: white;position: relative;}#sk-container-id-1 div.sk-item::before, #sk-container-id-1 div.sk-parallel-item::before {content: \"\";position: absolute;border-left: 1px solid gray;box-sizing: border-box;top: 0;bottom: 0;left: 50%;z-index: -1;}#sk-container-id-1 div.sk-parallel-item {display: flex;flex-direction: column;z-index: 1;position: relative;background-color: white;}#sk-container-id-1 div.sk-parallel-item:first-child::after {align-self: flex-end;width: 50%;}#sk-container-id-1 div.sk-parallel-item:last-child::after {align-self: flex-start;width: 50%;}#sk-container-id-1 div.sk-parallel-item:only-child::after {width: 0;}#sk-container-id-1 div.sk-dashed-wrapped {border: 1px dashed gray;margin: 0 0.4em 0.5em 0.4em;box-sizing: border-box;padding-bottom: 0.4em;background-color: white;}#sk-container-id-1 div.sk-label label {font-family: monospace;font-weight: bold;display: inline-block;line-height: 1.2em;}#sk-container-id-1 div.sk-label-container {text-align: center;}#sk-container-id-1 div.sk-container {/* jupyter's `normalize.less` sets `[hidden] { display: none; }` but bootstrap.min.css set `[hidden] { display: none !important; }` so we also need the `!important` here to be able to override the default hidden behavior on the sphinx rendered scikit-learn.org. See: https://github.com/scikit-learn/scikit-learn/issues/21755 */display: inline-block !important;position: relative;}#sk-container-id-1 div.sk-text-repr-fallback {display: none;}</style><div id=\"sk-container-id-1\" class=\"sk-top-container\"><div class=\"sk-text-repr-fallback\"><pre>LinearRegression()</pre><b>In a Jupyter environment, please rerun this cell to show the HTML representation or trust the notebook. <br />On GitHub, the HTML representation is unable to render, please try loading this page with nbviewer.org.</b></div><div class=\"sk-container\" hidden><div class=\"sk-item\"><div class=\"sk-estimator sk-toggleable\"><input class=\"sk-toggleable__control sk-hidden--visually\" id=\"sk-estimator-id-1\" type=\"checkbox\" checked><label for=\"sk-estimator-id-1\" class=\"sk-toggleable__label sk-toggleable__label-arrow\">LinearRegression</label><div class=\"sk-toggleable__content\"><pre>LinearRegression()</pre></div></div></div></div></div>"
      ],
      "text/plain": [
       "LinearRegression()"
      ]
     },
     "execution_count": 7,
     "metadata": {},
     "output_type": "execute_result"
    }
   ],
   "source": [
    "# Fitting the LinearRegression model to the training data\n",
    "\n",
    "linear_reg.fit(X_train, y_train)"
   ]
  },
  {
   "cell_type": "code",
   "execution_count": 8,
   "id": "644c7487",
   "metadata": {
    "execution": {
     "iopub.execute_input": "2023-07-16T13:12:35.198798Z",
     "iopub.status.busy": "2023-07-16T13:12:35.198347Z",
     "iopub.status.idle": "2023-07-16T13:12:35.205337Z",
     "shell.execute_reply": "2023-07-16T13:12:35.204212Z"
    },
    "papermill": {
     "duration": 0.017668,
     "end_time": "2023-07-16T13:12:35.207582",
     "exception": false,
     "start_time": "2023-07-16T13:12:35.189914",
     "status": "completed"
    },
    "tags": []
   },
   "outputs": [],
   "source": [
    "# Making predictions using the LinearRegression model\n",
    "\n",
    "linear_pred = linear_reg.predict(X_test)"
   ]
  },
  {
   "cell_type": "code",
   "execution_count": 9,
   "id": "d5da0cb6",
   "metadata": {
    "execution": {
     "iopub.execute_input": "2023-07-16T13:12:35.223904Z",
     "iopub.status.busy": "2023-07-16T13:12:35.223192Z",
     "iopub.status.idle": "2023-07-16T13:12:35.228341Z",
     "shell.execute_reply": "2023-07-16T13:12:35.227276Z"
    },
    "papermill": {
     "duration": 0.015822,
     "end_time": "2023-07-16T13:12:35.230609",
     "exception": false,
     "start_time": "2023-07-16T13:12:35.214787",
     "status": "completed"
    },
    "tags": []
   },
   "outputs": [],
   "source": [
    "# Calculating the mean squared error (MSE) for LinearRegression predictions\n",
    "\n",
    "linear_mse = mean_squared_error(y_test, linear_pred)"
   ]
  },
  {
   "cell_type": "code",
   "execution_count": 10,
   "id": "3e6c2f89",
   "metadata": {
    "execution": {
     "iopub.execute_input": "2023-07-16T13:12:35.246277Z",
     "iopub.status.busy": "2023-07-16T13:12:35.245848Z",
     "iopub.status.idle": "2023-07-16T13:12:35.250873Z",
     "shell.execute_reply": "2023-07-16T13:12:35.249728Z"
    },
    "id": "C2l--kjHqty6",
    "papermill": {
     "duration": 0.01587,
     "end_time": "2023-07-16T13:12:35.253407",
     "exception": false,
     "start_time": "2023-07-16T13:12:35.237537",
     "status": "completed"
    },
    "tags": []
   },
   "outputs": [],
   "source": [
    "# Creating the Ridge model object\n",
    "\n",
    "ridge_reg = Ridge(alpha=0.05)"
   ]
  },
  {
   "cell_type": "code",
   "execution_count": 11,
   "id": "199e11ad",
   "metadata": {
    "execution": {
     "iopub.execute_input": "2023-07-16T13:12:35.270375Z",
     "iopub.status.busy": "2023-07-16T13:12:35.269529Z",
     "iopub.status.idle": "2023-07-16T13:12:35.288016Z",
     "shell.execute_reply": "2023-07-16T13:12:35.286867Z"
    },
    "id": "RG30YQkKq3rY",
    "outputId": "ff4b43f7-c192-455d-c18c-bcc631c2cc99",
    "papermill": {
     "duration": 0.029538,
     "end_time": "2023-07-16T13:12:35.290441",
     "exception": false,
     "start_time": "2023-07-16T13:12:35.260903",
     "status": "completed"
    },
    "tags": []
   },
   "outputs": [
    {
     "data": {
      "text/html": [
       "<style>#sk-container-id-2 {color: black;background-color: white;}#sk-container-id-2 pre{padding: 0;}#sk-container-id-2 div.sk-toggleable {background-color: white;}#sk-container-id-2 label.sk-toggleable__label {cursor: pointer;display: block;width: 100%;margin-bottom: 0;padding: 0.3em;box-sizing: border-box;text-align: center;}#sk-container-id-2 label.sk-toggleable__label-arrow:before {content: \"▸\";float: left;margin-right: 0.25em;color: #696969;}#sk-container-id-2 label.sk-toggleable__label-arrow:hover:before {color: black;}#sk-container-id-2 div.sk-estimator:hover label.sk-toggleable__label-arrow:before {color: black;}#sk-container-id-2 div.sk-toggleable__content {max-height: 0;max-width: 0;overflow: hidden;text-align: left;background-color: #f0f8ff;}#sk-container-id-2 div.sk-toggleable__content pre {margin: 0.2em;color: black;border-radius: 0.25em;background-color: #f0f8ff;}#sk-container-id-2 input.sk-toggleable__control:checked~div.sk-toggleable__content {max-height: 200px;max-width: 100%;overflow: auto;}#sk-container-id-2 input.sk-toggleable__control:checked~label.sk-toggleable__label-arrow:before {content: \"▾\";}#sk-container-id-2 div.sk-estimator input.sk-toggleable__control:checked~label.sk-toggleable__label {background-color: #d4ebff;}#sk-container-id-2 div.sk-label input.sk-toggleable__control:checked~label.sk-toggleable__label {background-color: #d4ebff;}#sk-container-id-2 input.sk-hidden--visually {border: 0;clip: rect(1px 1px 1px 1px);clip: rect(1px, 1px, 1px, 1px);height: 1px;margin: -1px;overflow: hidden;padding: 0;position: absolute;width: 1px;}#sk-container-id-2 div.sk-estimator {font-family: monospace;background-color: #f0f8ff;border: 1px dotted black;border-radius: 0.25em;box-sizing: border-box;margin-bottom: 0.5em;}#sk-container-id-2 div.sk-estimator:hover {background-color: #d4ebff;}#sk-container-id-2 div.sk-parallel-item::after {content: \"\";width: 100%;border-bottom: 1px solid gray;flex-grow: 1;}#sk-container-id-2 div.sk-label:hover label.sk-toggleable__label {background-color: #d4ebff;}#sk-container-id-2 div.sk-serial::before {content: \"\";position: absolute;border-left: 1px solid gray;box-sizing: border-box;top: 0;bottom: 0;left: 50%;z-index: 0;}#sk-container-id-2 div.sk-serial {display: flex;flex-direction: column;align-items: center;background-color: white;padding-right: 0.2em;padding-left: 0.2em;position: relative;}#sk-container-id-2 div.sk-item {position: relative;z-index: 1;}#sk-container-id-2 div.sk-parallel {display: flex;align-items: stretch;justify-content: center;background-color: white;position: relative;}#sk-container-id-2 div.sk-item::before, #sk-container-id-2 div.sk-parallel-item::before {content: \"\";position: absolute;border-left: 1px solid gray;box-sizing: border-box;top: 0;bottom: 0;left: 50%;z-index: -1;}#sk-container-id-2 div.sk-parallel-item {display: flex;flex-direction: column;z-index: 1;position: relative;background-color: white;}#sk-container-id-2 div.sk-parallel-item:first-child::after {align-self: flex-end;width: 50%;}#sk-container-id-2 div.sk-parallel-item:last-child::after {align-self: flex-start;width: 50%;}#sk-container-id-2 div.sk-parallel-item:only-child::after {width: 0;}#sk-container-id-2 div.sk-dashed-wrapped {border: 1px dashed gray;margin: 0 0.4em 0.5em 0.4em;box-sizing: border-box;padding-bottom: 0.4em;background-color: white;}#sk-container-id-2 div.sk-label label {font-family: monospace;font-weight: bold;display: inline-block;line-height: 1.2em;}#sk-container-id-2 div.sk-label-container {text-align: center;}#sk-container-id-2 div.sk-container {/* jupyter's `normalize.less` sets `[hidden] { display: none; }` but bootstrap.min.css set `[hidden] { display: none !important; }` so we also need the `!important` here to be able to override the default hidden behavior on the sphinx rendered scikit-learn.org. See: https://github.com/scikit-learn/scikit-learn/issues/21755 */display: inline-block !important;position: relative;}#sk-container-id-2 div.sk-text-repr-fallback {display: none;}</style><div id=\"sk-container-id-2\" class=\"sk-top-container\"><div class=\"sk-text-repr-fallback\"><pre>Ridge(alpha=0.05)</pre><b>In a Jupyter environment, please rerun this cell to show the HTML representation or trust the notebook. <br />On GitHub, the HTML representation is unable to render, please try loading this page with nbviewer.org.</b></div><div class=\"sk-container\" hidden><div class=\"sk-item\"><div class=\"sk-estimator sk-toggleable\"><input class=\"sk-toggleable__control sk-hidden--visually\" id=\"sk-estimator-id-2\" type=\"checkbox\" checked><label for=\"sk-estimator-id-2\" class=\"sk-toggleable__label sk-toggleable__label-arrow\">Ridge</label><div class=\"sk-toggleable__content\"><pre>Ridge(alpha=0.05)</pre></div></div></div></div></div>"
      ],
      "text/plain": [
       "Ridge(alpha=0.05)"
      ]
     },
     "execution_count": 11,
     "metadata": {},
     "output_type": "execute_result"
    }
   ],
   "source": [
    "# Fitting the Ridge model to the training data\n",
    "\n",
    "ridge_reg.fit(X_train, y_train)"
   ]
  },
  {
   "cell_type": "code",
   "execution_count": 12,
   "id": "f5ac1b49",
   "metadata": {
    "execution": {
     "iopub.execute_input": "2023-07-16T13:12:35.307797Z",
     "iopub.status.busy": "2023-07-16T13:12:35.306613Z",
     "iopub.status.idle": "2023-07-16T13:12:35.314090Z",
     "shell.execute_reply": "2023-07-16T13:12:35.312955Z"
    },
    "id": "P_WIcc1wtDuu",
    "papermill": {
     "duration": 0.01839,
     "end_time": "2023-07-16T13:12:35.316371",
     "exception": false,
     "start_time": "2023-07-16T13:12:35.297981",
     "status": "completed"
    },
    "tags": []
   },
   "outputs": [],
   "source": [
    "# Making predictions using the RidgeRegression model\n",
    "\n",
    "ridge_pred = ridge_reg.predict(X_test)"
   ]
  },
  {
   "cell_type": "code",
   "execution_count": 13,
   "id": "98c6250d",
   "metadata": {
    "execution": {
     "iopub.execute_input": "2023-07-16T13:12:35.333014Z",
     "iopub.status.busy": "2023-07-16T13:12:35.332182Z",
     "iopub.status.idle": "2023-07-16T13:12:35.338743Z",
     "shell.execute_reply": "2023-07-16T13:12:35.337536Z"
    },
    "id": "ciejY2e4t7dx",
    "papermill": {
     "duration": 0.017741,
     "end_time": "2023-07-16T13:12:35.341445",
     "exception": false,
     "start_time": "2023-07-16T13:12:35.323704",
     "status": "completed"
    },
    "tags": []
   },
   "outputs": [],
   "source": [
    "# Calculating the mean squared error (MSE) for RidgeRegression predictions\n",
    "\n",
    "ridge_mse = mean_squared_error(y_test, ridge_pred)"
   ]
  },
  {
   "cell_type": "code",
   "execution_count": 14,
   "id": "73ece44e",
   "metadata": {
    "execution": {
     "iopub.execute_input": "2023-07-16T13:12:35.360056Z",
     "iopub.status.busy": "2023-07-16T13:12:35.359618Z",
     "iopub.status.idle": "2023-07-16T13:12:35.365360Z",
     "shell.execute_reply": "2023-07-16T13:12:35.364300Z"
    },
    "id": "W7u6r3cgu3h5",
    "outputId": "cec4d509-6b09-4aa0-d228-c3dacbe33ad8",
    "papermill": {
     "duration": 0.017138,
     "end_time": "2023-07-16T13:12:35.367685",
     "exception": false,
     "start_time": "2023-07-16T13:12:35.350547",
     "status": "completed"
    },
    "tags": []
   },
   "outputs": [
    {
     "name": "stdout",
     "output_type": "stream",
     "text": [
      "MSE without Ridge: 1835026646.4979093\n",
      "MSE with Ridge : 1834951222.778824\n"
     ]
    }
   ],
   "source": [
    "print(f\"MSE without Ridge: {linear_mse}\")\n",
    "print(f\"MSE with Ridge : {ridge_mse}\")"
   ]
  }
 ],
 "metadata": {
  "kernelspec": {
   "display_name": "Python 3",
   "language": "python",
   "name": "python3"
  },
  "language_info": {
   "codemirror_mode": {
    "name": "ipython",
    "version": 3
   },
   "file_extension": ".py",
   "mimetype": "text/x-python",
   "name": "python",
   "nbconvert_exporter": "python",
   "pygments_lexer": "ipython3",
   "version": "3.10.12"
  },
  "papermill": {
   "default_parameters": {},
   "duration": 13.98021,
   "end_time": "2023-07-16T13:12:36.398323",
   "environment_variables": {},
   "exception": null,
   "input_path": "__notebook__.ipynb",
   "output_path": "__notebook__.ipynb",
   "parameters": {},
   "start_time": "2023-07-16T13:12:22.418113",
   "version": "2.4.0"
  }
 },
 "nbformat": 4,
 "nbformat_minor": 5
}
